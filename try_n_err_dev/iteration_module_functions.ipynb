{
 "cells": [
  {
   "cell_type": "markdown",
   "metadata": {
    "deletable": true,
    "editable": true
   },
   "source": [
    "# z_plane class:   ComplexPlane"
   ]
  },
  {
   "cell_type": "code",
   "execution_count": 1,
   "metadata": {
    "collapsed": false,
    "deletable": true,
    "editable": true
   },
   "outputs": [],
   "source": [
    "import os\n",
    "import sys\n",
    "import numpy as np\n",
    "\n",
    "sys.path.insert(1, '../src')\n",
    "import z_plane\n",
    "from z_plane import ComplexPlane"
   ]
  },
  {
   "cell_type": "code",
   "execution_count": 2,
   "metadata": {
    "collapsed": false,
    "deletable": true,
    "editable": true
   },
   "outputs": [
    {
     "name": "stdout",
     "output_type": "stream",
     "text": [
      "    center_point: 0\n",
      "          n_cols: 5\n",
      "          n_rows: 5\n",
      "           theta: -2.000000 -3.250000j\n",
      "     zoom_factor: 1.230000\n",
      "\n"
     ]
    }
   ],
   "source": [
    "obj = ComplexPlane()\n",
    "obj._theta = -2 - 3.25j\n",
    "obj._zoom_factor = 1.23\n",
    "pd = obj.get_parameters_dict()\n",
    "pretty_string = z_plane.get_aligned_dict_string(pd, N_DEC=6)\n",
    "print(pretty_string)"
   ]
  },
  {
   "cell_type": "code",
   "execution_count": 3,
   "metadata": {
    "collapsed": true,
    "deletable": true,
    "editable": true
   },
   "outputs": [],
   "source": [
    "def f1(Z, p=0, Z0=None):\n",
    "    return np.exp(Z**(p*Z))"
   ]
  },
  {
   "cell_type": "code",
   "execution_count": 4,
   "metadata": {
    "collapsed": true,
    "deletable": true,
    "editable": true
   },
   "outputs": [],
   "source": [
    "def f2(Z, p=0, Z0=None):\n",
    "    return Z**2 - p"
   ]
  },
  {
   "cell_type": "code",
   "execution_count": 5,
   "metadata": {
    "collapsed": true,
    "deletable": true,
    "editable": true
   },
   "outputs": [],
   "source": [
    "def f3(Z, p=0, Z0=None):\n",
    "    return np.sqrt(Z + p)"
   ]
  },
  {
   "cell_type": "code",
   "execution_count": 6,
   "metadata": {
    "collapsed": false,
    "deletable": true,
    "editable": true
   },
   "outputs": [
    {
     "name": "stdout",
     "output_type": "stream",
     "text": [
      "(1+1j)\n",
      "(2.47884987409+0.55073043608j)\n",
      "(3.75513963789+1.58627831912j)\n",
      "(1.47499317262+10.4070499391j)\n",
      "(0.996311251735-0.0448775351243j)\n",
      "(2.71143180828-0.0225415296346j)\n",
      "(5.2475107339+0.760844913234j)\n",
      "6\n"
     ]
    }
   ],
   "source": [
    "p_list = [0.19 - 0.035j, 0.19 + 0.035j]\n",
    "n = len(p_list)\n",
    "MAX_IT = 100\n",
    "MAX_D = 250\n",
    "\n",
    "Z0 = 1 + 1j\n",
    "eq_dict = {'f1':f1, 'f2':f2}\n",
    "eq_keys = list(eq_dict.keys())\n",
    "keep_going = True\n",
    "Z_try = Z0\n",
    "Z = Z_try\n",
    "for kfer in range(0,MAX_IT):\n",
    "    if keep_going:\n",
    "        try:\n",
    "            Z_try = eq_dict['f1'](Z, p_list[np.mod(kfer,n)], Z0)\n",
    "        except RuntimeWarning as wahoo:\n",
    "            print(str(wahoo))\n",
    "            pass\n",
    "        print(Z)\n",
    "        if np.isfinite(Z_try) and np.abs(Z_try-Z0) <= MAX_D:\n",
    "            Z = Z_try\n",
    "        else:\n",
    "            keep_going = False\n",
    "            print(kfer)\n",
    "            break\n"
   ]
  },
  {
   "cell_type": "code",
   "execution_count": 9,
   "metadata": {
    "collapsed": false,
    "deletable": true,
    "editable": true
   },
   "outputs": [
    {
     "name": "stdout",
     "output_type": "stream",
     "text": [
      "ETBound =\t 50.0\n",
      "\n",
      "\n",
      "-0.034 -200.170j  -75.034 -100.170j  -100.034 -0.170j  -75.034 +99.830j  -0.034 +199.830j  \n",
      " 74.966 -100.170j  -0.034 -50.170j  -25.034 -0.170j  -0.034 +49.830j   74.966 +99.830j  \n",
      " 99.966 -0.170j   24.966 -0.170j  -0.034 -0.170j   24.966 -0.170j   99.966 -0.170j  \n",
      " 74.966 +99.830j  -0.034 +49.830j  -25.034 -0.170j  -0.034 -50.170j   74.966 -100.170j  \n",
      "-0.034 +199.830j  -75.034 +99.830j  -100.034 -0.170j  -75.034 -100.170j  -0.034 -200.170j  \n",
      "\n",
      "\n",
      "-0.034 -200.170j  -75.034 -100.170j  -100.034 -0.170j  -75.034 +99.830j  -0.034 +199.830j  \n",
      " 74.966 -100.170j  -0.034 -50.170j   626.638 +8.342j  -2483.062 -3.558j   74.966 +99.830j  \n",
      " 99.966 -0.170j   623.238 -8.658j  -0.062 -0.158j   623.238 -8.658j   99.966 -0.170j  \n",
      " 74.966 +99.830j  -0.034 +49.830j   626.638 +8.342j  -2517.062 +3.242j   74.966 -100.170j  \n",
      "-0.034 +199.830j  -75.034 +99.830j  -100.034 -0.170j  -75.034 -100.170j  -0.034 -200.170j  \n",
      "\n",
      "\n",
      "-0.034 -200.170j  -75.034 -100.170j  -100.034 -0.170j  -75.034 +99.830j  -0.034 +199.830j  \n",
      " 74.966 -100.170j  -0.034 -50.170j   626.638 +8.342j  -2483.062 -3.558j   74.966 +99.830j  \n",
      " 99.966 -0.170j   623.238 -8.658j  -0.055 -0.150j   623.238 -8.658j   99.966 -0.170j  \n",
      " 74.966 +99.830j  -0.034 +49.830j   626.638 +8.342j  -2517.062 +3.242j   74.966 -100.170j  \n",
      "-0.034 +199.830j  -75.034 +99.830j  -100.034 -0.170j  -75.034 -100.170j  -0.034 -200.170j  \n",
      "\n",
      "\n",
      "-0.034 -200.170j  -75.034 -100.170j  -100.034 -0.170j  -75.034 +99.830j  -0.034 +199.830j  \n",
      " 74.966 -100.170j  -0.034 -50.170j   626.638 +8.342j  -2483.062 -3.558j   74.966 +99.830j  \n",
      " 99.966 -0.170j   623.238 -8.658j  -0.054 -0.153j   623.238 -8.658j   99.966 -0.170j  \n",
      " 74.966 +99.830j  -0.034 +49.830j   626.638 +8.342j  -2517.062 +3.242j   74.966 -100.170j  \n",
      "-0.034 +199.830j  -75.034 +99.830j  -100.034 -0.170j  -75.034 -100.170j  -0.034 -200.170j  \n",
      "\n",
      "\n",
      "-0.034 -200.170j  -75.034 -100.170j  -100.034 -0.170j  -75.034 +99.830j  -0.034 +199.830j  \n",
      " 74.966 -100.170j  -0.034 -50.170j   626.638 +8.342j  -2483.062 -3.558j   74.966 +99.830j  \n",
      " 99.966 -0.170j   623.238 -8.658j  -0.055 -0.154j   623.238 -8.658j   99.966 -0.170j  \n",
      " 74.966 +99.830j  -0.034 +49.830j   626.638 +8.342j  -2517.062 +3.242j   74.966 -100.170j  \n",
      "-0.034 +199.830j  -75.034 +99.830j  -100.034 -0.170j  -75.034 -100.170j  -0.034 -200.170j  \n",
      "\n",
      "\n",
      "-0.034 -200.170j  -75.034 -100.170j  -100.034 -0.170j  -75.034 +99.830j  -0.034 +199.830j  \n",
      " 74.966 -100.170j  -0.034 -50.170j   626.638 +8.342j  -2483.062 -3.558j   74.966 +99.830j  \n",
      " 99.966 -0.170j   623.238 -8.658j  -0.055 -0.153j   623.238 -8.658j   99.966 -0.170j  \n",
      " 74.966 +99.830j  -0.034 +49.830j   626.638 +8.342j  -2517.062 +3.242j   74.966 -100.170j  \n",
      "-0.034 +199.830j  -75.034 +99.830j  -100.034 -0.170j  -75.034 -100.170j  -0.034 -200.170j  \n"
     ]
    }
   ],
   "source": [
    "self = ComplexPlane(CP=0.0+0.0*1j, ZM=0.10, theta=0.0, h=5, w=5)\n",
    "Z0 = self.get_complex_pixels()\n",
    "\n",
    "ETBound = self.get_escape_bound()\n",
    "print('ETBound =\\t', ETBound)\n",
    "ETMax = 5\n",
    "p = (0.034 + 0.17j)\n",
    "Z = Z0**2 - p\n",
    "Z_try = Z\n",
    "for ET in range(0, ETMax):\n",
    "    print('\\n')\n",
    "    z_plane.show_complex_matrix(Z)\n",
    "    M_new = np.isfinite(Z) & (np.abs(Z - Z0) <= ETBound)\n",
    "    Z_bak = Z\n",
    "    M_was = M_new\n",
    "    Z_try[M_was] = Z[M_was]**2 - p\n",
    "    M_new = np.isfinite(Z) & M_was\n",
    "    Z[M_new] = Z_try[M_new]\n",
    "    \n",
    "print('\\n')\n",
    "z_plane.show_complex_matrix(Z)"
   ]
  },
  {
   "cell_type": "markdown",
   "metadata": {
    "collapsed": true,
    "deletable": true,
    "editable": true
   },
   "source": [
    "#### sketch of usage for escape-time dynamic iteration"
   ]
  },
  {
   "cell_type": "code",
   "execution_count": 3,
   "metadata": {
    "collapsed": false,
    "deletable": true,
    "editable": true
   },
   "outputs": [
    {
     "name": "stdout",
     "output_type": "stream",
     "text": [
      "\n",
      "\n",
      "-0.034 -2.170j  -0.784 -1.170j  -1.034 -0.170j  -0.784 +0.830j  -0.034 +1.830j  \n",
      " 0.716 -1.170j  -0.034 -0.670j  -0.284 -0.170j  -0.034 +0.330j   0.716 +0.830j  \n",
      " 0.966 -0.170j   0.216 -0.170j  -0.034 -0.170j   0.216 -0.170j   0.966 -0.170j  \n",
      " 0.716 +0.830j  -0.034 +0.330j  -0.284 -0.170j  -0.034 -0.670j   0.716 -1.170j  \n",
      "-0.034 +1.830j  -0.784 +0.830j  -1.034 -0.170j  -0.784 -1.170j  -0.034 -2.170j  \n",
      "\n",
      "\n",
      "-4.742 -0.022j  -0.788 +1.665j   1.006 +0.182j  -0.108 -1.471j  -3.382 -0.294j  \n",
      "-0.890 -1.845j  -0.482 -0.124j   0.018 -0.073j  -0.142 -0.192j  -0.210 +1.019j  \n",
      " 0.870 -0.498j  -0.016 -0.243j  -0.062 -0.158j  -0.016 -0.243j   0.870 -0.498j  \n",
      "-0.210 +1.019j  -0.142 -0.192j   0.018 -0.073j  -0.482 -0.124j  -0.890 -1.845j  \n",
      "-3.382 -0.294j  -0.108 -1.471j   1.006 +0.182j  -0.788 +1.665j  -4.742 -0.022j  \n",
      "\n",
      "\n",
      " 22.450 +0.043j  -2.183 -2.794j   0.946 +0.195j  -2.187 +0.149j   11.315 +1.821j  \n",
      "-2.647 +3.116j   0.183 -0.050j  -0.039 -0.173j  -0.051 -0.115j  -1.027 -0.598j  \n",
      " 0.475 -1.038j  -0.093 -0.162j  -0.055 -0.150j  -0.093 -0.162j   0.475 -1.038j  \n",
      "-1.027 -0.598j  -0.051 -0.115j  -0.039 -0.173j   0.183 -0.050j  -2.647 +3.116j  \n",
      " 11.315 +1.821j  -2.187 +0.149j   0.946 +0.195j  -2.183 -2.794j   22.450 +0.043j  \n",
      "\n",
      "\n",
      " 503.950 +1.752j  -3.074 +12.032j   0.822 +0.200j   4.729 -0.820j   124.689 +41.051j  \n",
      "-2.735 -16.666j  -0.003 -0.188j  -0.062 -0.157j  -0.045 -0.158j   0.663 +1.059j  \n",
      "-0.885 -1.155j  -0.052 -0.140j  -0.054 -0.153j  -0.052 -0.140j  -0.885 -1.155j  \n",
      " 0.663 +1.059j  -0.045 -0.158j  -0.062 -0.157j  -0.003 -0.188j  -2.735 -16.666j  \n",
      " 124.689 +41.051j   4.729 -0.820j   0.822 +0.200j  -3.074 +12.032j   503.950 +1.752j  \n",
      "\n",
      "\n",
      " 503.950 +1.752j  -135.347 -74.140j   0.602 +0.158j   21.655 -7.924j   124.689 +41.051j  \n",
      "-270.299 +90.988j  -0.069 -0.169j  -0.055 -0.151j  -0.057 -0.156j  -0.716 +1.235j  \n",
      "-0.586 +1.875j  -0.051 -0.156j  -0.055 -0.154j  -0.051 -0.156j  -0.586 +1.875j  \n",
      "-0.716 +1.235j  -0.057 -0.156j  -0.055 -0.151j  -0.069 -0.169j  -270.299 +90.988j  \n",
      " 124.689 +41.051j   21.655 -7.924j   0.602 +0.158j  -135.347 -74.140j   503.950 +1.752j  \n",
      "\n",
      "\n",
      " 503.950 +1.752j  -135.347 -74.140j   0.303 +0.020j   406.104 -343.353j   124.689 +41.051j  \n",
      "-270.299 +90.988j  -0.058 -0.147j  -0.054 -0.154j  -0.055 -0.152j  -1.047 -1.939j  \n",
      "-3.207 -2.367j  -0.056 -0.154j  -0.055 -0.153j  -0.056 -0.154j  -3.207 -2.367j  \n",
      "-1.047 -1.939j  -0.055 -0.152j  -0.054 -0.154j  -0.058 -0.147j  -270.299 +90.988j  \n",
      " 124.689 +41.051j   406.104 -343.353j   0.303 +0.020j  -135.347 -74.140j   503.950 +1.752j  \n",
      "\n",
      "\n",
      " 503.950 +1.752j  -135.347 -74.140j   0.058 -0.158j   406.104 -343.353j   124.689 +41.051j  \n",
      "-270.299 +90.988j  -0.052 -0.153j  -0.055 -0.154j  -0.054 -0.153j  -2.696 +3.890j  \n",
      " 4.644 +15.012j  -0.055 -0.153j  -0.054 -0.153j  -0.055 -0.153j   4.644 +15.012j  \n",
      "-2.696 +3.890j  -0.054 -0.153j  -0.055 -0.154j  -0.052 -0.153j  -270.299 +90.988j  \n",
      " 124.689 +41.051j   406.104 -343.353j   0.058 -0.158j  -135.347 -74.140j   503.950 +1.752j  \n",
      "\n",
      "\n",
      " 503.950 +1.752j  -135.347 -74.140j  -0.056 -0.188j   406.104 -343.353j   124.689 +41.051j  \n",
      "-270.299 +90.988j  -0.055 -0.154j  -0.055 -0.153j  -0.055 -0.153j  -7.897 -21.142j  \n",
      "-203.839 +139.252j  -0.054 -0.153j  -0.055 -0.153j  -0.054 -0.153j  -203.839 +139.252j  \n",
      "-7.897 -21.142j  -0.055 -0.153j  -0.055 -0.153j  -0.055 -0.154j  -270.299 +90.988j  \n",
      " 124.689 +41.051j   406.104 -343.353j  -0.056 -0.188j  -135.347 -74.140j   503.950 +1.752j  \n"
     ]
    }
   ],
   "source": [
    "self = ComplexPlane(CP=0.0+0.0*1j, ZM=1.0, theta=0.0, h=5, w=5)\n",
    "Z0 = self.get_complex_pixels()\n",
    "ETBound = 64\n",
    "ETMax = 7\n",
    "p = (0.034 + 0.17j)\n",
    "Z = Z0**2 - p\n",
    "Z_try = Z\n",
    "for ET in range(0, ETMax):\n",
    "    print('\\n')\n",
    "    z_plane.show_complex_matrix(Z)\n",
    "    M_new = np.isfinite(Z) & (np.abs(Z - Z0) <= ETBound)\n",
    "    Z_bak = Z\n",
    "    M_was = M_new\n",
    "    Z_try[M_was] = Z[M_was]**2 - p\n",
    "    M_new = np.isfinite(Z) & M_was\n",
    "    Z[M_new] = Z_try[M_new]\n",
    "    \n",
    "print('\\n')\n",
    "z_plane.show_complex_matrix(Z)"
   ]
  },
  {
   "cell_type": "code",
   "execution_count": null,
   "metadata": {
    "collapsed": true,
    "deletable": true,
    "editable": true
   },
   "outputs": [],
   "source": []
  },
  {
   "cell_type": "code",
   "execution_count": null,
   "metadata": {
    "collapsed": true,
    "deletable": true,
    "editable": true
   },
   "outputs": [],
   "source": []
  },
  {
   "cell_type": "code",
   "execution_count": null,
   "metadata": {
    "collapsed": true,
    "deletable": true,
    "editable": true
   },
   "outputs": [],
   "source": []
  },
  {
   "cell_type": "code",
   "execution_count": null,
   "metadata": {
    "collapsed": true,
    "deletable": true,
    "editable": true
   },
   "outputs": [],
   "source": []
  },
  {
   "cell_type": "code",
   "execution_count": null,
   "metadata": {
    "collapsed": true,
    "deletable": true,
    "editable": true
   },
   "outputs": [],
   "source": []
  }
 ],
 "metadata": {
  "anaconda-cloud": {},
  "kernelspec": {
   "display_name": "Python 3",
   "language": "python",
   "name": "python3"
  },
  "language_info": {
   "codemirror_mode": {
    "name": "ipython",
    "version": 3
   },
   "file_extension": ".py",
   "mimetype": "text/x-python",
   "name": "python",
   "nbconvert_exporter": "python",
   "pygments_lexer": "ipython3",
   "version": "3.6.0"
  }
 },
 "nbformat": 4,
 "nbformat_minor": 1
}
