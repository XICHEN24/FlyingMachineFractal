{
 "cells": [
  {
   "cell_type": "markdown",
   "metadata": {},
   "source": [
    "# z_plane class:   ComplexPlane"
   ]
  },
  {
   "cell_type": "code",
   "execution_count": 2,
   "metadata": {
    "collapsed": false
   },
   "outputs": [],
   "source": [
    "import os\n",
    "import sys\n",
    "import numpy as np\n",
    "\n",
    "sys.path.insert(1, '../src')\n",
    "import z_plane\n",
    "from z_plane import ComplexPlane"
   ]
  },
  {
   "cell_type": "code",
   "execution_count": 3,
   "metadata": {
    "collapsed": true
   },
   "outputs": [],
   "source": [
    "def f1(Z, p=0, Z0=None):\n",
    "    return np.exp(Z**(p*Z))"
   ]
  },
  {
   "cell_type": "code",
   "execution_count": 4,
   "metadata": {
    "collapsed": true
   },
   "outputs": [],
   "source": [
    "def f2(Z, p=0, Z0=None):\n",
    "    return Z**2 - p"
   ]
  },
  {
   "cell_type": "code",
   "execution_count": 5,
   "metadata": {
    "collapsed": true
   },
   "outputs": [],
   "source": [
    "def f3(Z, p=0, Z0=None):\n",
    "    return np.sqrt(Z + p)"
   ]
  },
  {
   "cell_type": "code",
   "execution_count": 6,
   "metadata": {
    "collapsed": false
   },
   "outputs": [
    {
     "name": "stdout",
     "output_type": "stream",
     "text": [
      "(1+1j)\n",
      "(2.47884987409+0.55073043608j)\n",
      "(3.75513963789+1.58627831912j)\n",
      "(1.47499317262+10.4070499391j)\n",
      "(0.996311251735-0.0448775351243j)\n",
      "(2.71143180828-0.0225415296346j)\n",
      "(5.2475107339+0.760844913234j)\n",
      "6\n"
     ]
    }
   ],
   "source": [
    "p_list = [0.19 - 0.035j, 0.19 + 0.035j]\n",
    "n = len(p_list)\n",
    "MAX_IT = 100\n",
    "MAX_D = 250\n",
    "\n",
    "Z0 = 1 + 1j\n",
    "eq_dict = {'f1':f1, 'f2':f2}\n",
    "eq_keys = list(eq_dict.keys())\n",
    "keep_going = True\n",
    "Z_try = Z0\n",
    "Z = Z_try\n",
    "for kfer in range(0,MAX_IT):\n",
    "    if keep_going:\n",
    "        try:\n",
    "            Z_try = eq_dict['f1'](Z, p_list[np.mod(kfer,n)], Z0)\n",
    "        except RuntimeWarning as wahoo:\n",
    "            print(str(wahoo))\n",
    "            pass\n",
    "        print(Z)\n",
    "        if np.isfinite(Z_try) and np.abs(Z_try-Z0) <= MAX_D:\n",
    "            Z = Z_try\n",
    "        else:\n",
    "            keep_going = False\n",
    "            print(kfer)\n",
    "            break\n"
   ]
  },
  {
   "cell_type": "code",
   "execution_count": 9,
   "metadata": {
    "collapsed": false
   },
   "outputs": [
    {
     "name": "stdout",
     "output_type": "stream",
     "text": [
      "ETBound =\t 50.0\n",
      "\n",
      "\n",
      "-0.034 -200.170j  -75.034 -100.170j  -100.034 -0.170j  -75.034 +99.830j  -0.034 +199.830j  \n",
      " 74.966 -100.170j  -0.034 -50.170j  -25.034 -0.170j  -0.034 +49.830j   74.966 +99.830j  \n",
      " 99.966 -0.170j   24.966 -0.170j  -0.034 -0.170j   24.966 -0.170j   99.966 -0.170j  \n",
      " 74.966 +99.830j  -0.034 +49.830j  -25.034 -0.170j  -0.034 -50.170j   74.966 -100.170j  \n",
      "-0.034 +199.830j  -75.034 +99.830j  -100.034 -0.170j  -75.034 -100.170j  -0.034 -200.170j  \n",
      "\n",
      "\n",
      "-0.034 -200.170j  -75.034 -100.170j  -100.034 -0.170j  -75.034 +99.830j  -0.034 +199.830j  \n",
      " 74.966 -100.170j  -0.034 -50.170j   626.638 +8.342j  -2483.062 -3.558j   74.966 +99.830j  \n",
      " 99.966 -0.170j   623.238 -8.658j  -0.062 -0.158j   623.238 -8.658j   99.966 -0.170j  \n",
      " 74.966 +99.830j  -0.034 +49.830j   626.638 +8.342j  -2517.062 +3.242j   74.966 -100.170j  \n",
      "-0.034 +199.830j  -75.034 +99.830j  -100.034 -0.170j  -75.034 -100.170j  -0.034 -200.170j  \n",
      "\n",
      "\n",
      "-0.034 -200.170j  -75.034 -100.170j  -100.034 -0.170j  -75.034 +99.830j  -0.034 +199.830j  \n",
      " 74.966 -100.170j  -0.034 -50.170j   626.638 +8.342j  -2483.062 -3.558j   74.966 +99.830j  \n",
      " 99.966 -0.170j   623.238 -8.658j  -0.055 -0.150j   623.238 -8.658j   99.966 -0.170j  \n",
      " 74.966 +99.830j  -0.034 +49.830j   626.638 +8.342j  -2517.062 +3.242j   74.966 -100.170j  \n",
      "-0.034 +199.830j  -75.034 +99.830j  -100.034 -0.170j  -75.034 -100.170j  -0.034 -200.170j  \n",
      "\n",
      "\n",
      "-0.034 -200.170j  -75.034 -100.170j  -100.034 -0.170j  -75.034 +99.830j  -0.034 +199.830j  \n",
      " 74.966 -100.170j  -0.034 -50.170j   626.638 +8.342j  -2483.062 -3.558j   74.966 +99.830j  \n",
      " 99.966 -0.170j   623.238 -8.658j  -0.054 -0.153j   623.238 -8.658j   99.966 -0.170j  \n",
      " 74.966 +99.830j  -0.034 +49.830j   626.638 +8.342j  -2517.062 +3.242j   74.966 -100.170j  \n",
      "-0.034 +199.830j  -75.034 +99.830j  -100.034 -0.170j  -75.034 -100.170j  -0.034 -200.170j  \n",
      "\n",
      "\n",
      "-0.034 -200.170j  -75.034 -100.170j  -100.034 -0.170j  -75.034 +99.830j  -0.034 +199.830j  \n",
      " 74.966 -100.170j  -0.034 -50.170j   626.638 +8.342j  -2483.062 -3.558j   74.966 +99.830j  \n",
      " 99.966 -0.170j   623.238 -8.658j  -0.055 -0.154j   623.238 -8.658j   99.966 -0.170j  \n",
      " 74.966 +99.830j  -0.034 +49.830j   626.638 +8.342j  -2517.062 +3.242j   74.966 -100.170j  \n",
      "-0.034 +199.830j  -75.034 +99.830j  -100.034 -0.170j  -75.034 -100.170j  -0.034 -200.170j  \n",
      "\n",
      "\n",
      "-0.034 -200.170j  -75.034 -100.170j  -100.034 -0.170j  -75.034 +99.830j  -0.034 +199.830j  \n",
      " 74.966 -100.170j  -0.034 -50.170j   626.638 +8.342j  -2483.062 -3.558j   74.966 +99.830j  \n",
      " 99.966 -0.170j   623.238 -8.658j  -0.055 -0.153j   623.238 -8.658j   99.966 -0.170j  \n",
      " 74.966 +99.830j  -0.034 +49.830j   626.638 +8.342j  -2517.062 +3.242j   74.966 -100.170j  \n",
      "-0.034 +199.830j  -75.034 +99.830j  -100.034 -0.170j  -75.034 -100.170j  -0.034 -200.170j  \n"
     ]
    }
   ],
   "source": [
    "self = ComplexPlane(CP=0.0+0.0*1j, ZM=0.10, theta=0.0, h=5, w=5)\n",
    "Z0 = self.get_complex_pixels()\n",
    "\n",
    "ETBound = self.get_escape_bound()\n",
    "print('ETBound =\\t', ETBound)\n",
    "ETMax = 5\n",
    "p = (0.034 + 0.17j)\n",
    "Z = Z0**2 - p\n",
    "Z_try = Z\n",
    "for ET in range(0, ETMax):\n",
    "    print('\\n')\n",
    "    z_plane.show_complex_matrix(Z)\n",
    "    M_new = np.isfinite(Z) & (np.abs(Z - Z0) <= ETBound)\n",
    "    Z_bak = Z\n",
    "    M_was = M_new\n",
    "    Z_try[M_was] = Z[M_was]**2 - p\n",
    "    M_new = np.isfinite(Z) & M_was\n",
    "    Z[M_new] = Z_try[M_new]\n",
    "    \n",
    "print('\\n')\n",
    "z_plane.show_complex_matrix(Z)"
   ]
  },
  {
   "cell_type": "code",
   "execution_count": null,
   "metadata": {
    "collapsed": true
   },
   "outputs": [],
   "source": []
  },
  {
   "cell_type": "code",
   "execution_count": null,
   "metadata": {
    "collapsed": true
   },
   "outputs": [],
   "source": []
  },
  {
   "cell_type": "code",
   "execution_count": null,
   "metadata": {
    "collapsed": true
   },
   "outputs": [],
   "source": []
  },
  {
   "cell_type": "code",
   "execution_count": null,
   "metadata": {
    "collapsed": true
   },
   "outputs": [],
   "source": []
  },
  {
   "cell_type": "code",
   "execution_count": null,
   "metadata": {
    "collapsed": true
   },
   "outputs": [],
   "source": []
  },
  {
   "cell_type": "code",
   "execution_count": null,
   "metadata": {
    "collapsed": true
   },
   "outputs": [],
   "source": []
  },
  {
   "cell_type": "code",
   "execution_count": null,
   "metadata": {
    "collapsed": true
   },
   "outputs": [],
   "source": []
  }
 ],
 "metadata": {
  "anaconda-cloud": {},
  "kernelspec": {
   "display_name": "Python [default]",
   "language": "python",
   "name": "python3"
  },
  "language_info": {
   "codemirror_mode": {
    "name": "ipython",
    "version": 3
   },
   "file_extension": ".py",
   "mimetype": "text/x-python",
   "name": "python",
   "nbconvert_exporter": "python",
   "pygments_lexer": "ipython3",
   "version": "3.5.2"
  }
 },
 "nbformat": 4,
 "nbformat_minor": 1
}
