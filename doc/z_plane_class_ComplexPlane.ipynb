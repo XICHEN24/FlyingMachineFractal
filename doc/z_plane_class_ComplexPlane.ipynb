{
 "cells": [
  {
   "cell_type": "markdown",
   "metadata": {},
   "source": [
    "# z_plane class:   ComplexPlane"
   ]
  },
  {
   "cell_type": "code",
   "execution_count": 5,
   "metadata": {
    "collapsed": false
   },
   "outputs": [],
   "source": [
    "import os\n",
    "import sys\n",
    "import numpy as np\n",
    "\n",
    "import multiprocessing as mp\n",
    "\n",
    "sys.path.insert(1, '../src')\n",
    "import z_plane\n",
    "from z_plane import ComplexPlane"
   ]
  },
  {
   "cell_type": "markdown",
   "metadata": {},
   "source": [
    "## Default instantiation of ComplexPlane class:\n",
    "* **center_point = 0.0+0.0*1j** `actual center` **if** `the number of rows _and_ columns are both odd.`\n",
    "* **zoom_factor = 1.0**  `think magnification factor - larger zoom_factor views a smaller area.`\n",
    "* **theta = 0.0** `rotation around the center_point in` **radians.**\n",
    "* **number_of_rows = 5** `pixel rows numbered top to bottom - no matter what the rotation of the complex plane.`\n",
    "* **number_of_cols = 5** `the actual size of an image still depends on the resolution used by the rendering device.`\n",
    "\n",
    "### create a ComplexPlane object, get matrix of complex pixels and show them as a matrix"
   ]
  },
  {
   "cell_type": "code",
   "execution_count": 6,
   "metadata": {
    "collapsed": false
   },
   "outputs": [
    {
     "name": "stdout",
     "output_type": "stream",
     "text": [
      "ETBound =\t 12.0\n",
      "-1.000 +1.000j  -0.500 +1.000j   0.000 +1.000j   0.500 +1.000j   1.000 +1.000j  \n",
      "-1.000 +0.500j  -0.500 +0.500j   0.000 +0.500j   0.500 +0.500j   1.000 +0.500j  \n",
      "-1.000 +0.000j  -0.500 +0.000j   0.000 +0.000j   0.500 +0.000j   1.000 +0.000j  \n",
      "-1.000 -0.500j  -0.500 -0.500j   0.000 -0.500j   0.500 -0.500j   1.000 -0.500j  \n",
      "-1.000 -1.000j  -0.500 -1.000j   0.000 -1.000j   0.500 -1.000j   1.000 -1.000j  \n"
     ]
    }
   ],
   "source": [
    "self = ComplexPlane(CP=0.0+0.0*1j, ZM=1.0, theta=0.0, h=5, w=5)\n",
    "\n",
    "Z0 = self.get_complex_pixels()\n",
    "ETBound = self.get_escape_bound()\n",
    "print('ETBound =\\t', ETBound)\n",
    "z_plane.show_complex_matrix(Z0)"
   ]
  },
  {
   "cell_type": "markdown",
   "metadata": {},
   "source": [
    "### Save and load object parameters.\n",
    "* parameters_dict = self.get_parameters_dict()\n",
    "* self.load_dict(parameters_dict)"
   ]
  },
  {
   "cell_type": "code",
   "execution_count": 7,
   "metadata": {
    "collapsed": false
   },
   "outputs": [
    {
     "name": "stdout",
     "output_type": "stream",
     "text": [
      "zoom_factor :\t\t 1.0\n",
      "n_cols :\t\t 5\n",
      "center_point :\t\t 0j\n",
      "n_rows :\t\t 5\n",
      "theta :\t\t 0.0\n"
     ]
    }
   ],
   "source": [
    "parameters_dict = self.get_parameters_dict()\n",
    "for ke_y in parameters_dict.keys():\n",
    "    print(ke_y, ':\\t\\t', parameters_dict[ke_y])\n",
    "\n",
    "parameters_dict['center_point'] = 2.0 - 1.678j\n",
    "self.load_dict(parameters_dict)"
   ]
  },
  {
   "cell_type": "markdown",
   "metadata": {},
   "source": [
    "### **horizontal_axis,  vertical_axis  =  obj.get_complex_axes( )**"
   ]
  },
  {
   "cell_type": "code",
   "execution_count": 8,
   "metadata": {
    "collapsed": false
   },
   "outputs": [
    {
     "name": "stdout",
     "output_type": "stream",
     "text": [
      " 1.000 -1.678j  \n",
      " 1.500 -1.678j  \n",
      " 2.000 -1.678j  \n",
      " 2.500 -1.678j  \n",
      " 3.000 -1.678j  \n",
      "\n",
      " 2.000 -0.678j  \n",
      " 2.000 -1.178j  \n",
      " 2.000 -1.678j  \n",
      " 2.000 -2.178j  \n",
      " 2.000 -2.678j  \n",
      "\n"
     ]
    }
   ],
   "source": [
    "horiz_axis, vert_axis = self.get_complex_axes()\n",
    "z_plane.show_complex_matrix(horiz_axis)\n",
    "z_plane.show_complex_matrix(vert_axis)"
   ]
  },
  {
   "cell_type": "markdown",
   "metadata": {},
   "source": [
    "### **top_rail, bottom_rail = obj.get_styles( )**"
   ]
  },
  {
   "cell_type": "code",
   "execution_count": 9,
   "metadata": {
    "collapsed": false
   },
   "outputs": [
    {
     "name": "stdout",
     "output_type": "stream",
     "text": [
      " 1.000 -0.678j  \n",
      " 1.000 -1.178j  \n",
      " 1.000 -1.678j  \n",
      " 1.000 -2.178j  \n",
      " 1.000 -2.678j  \n",
      "\n",
      " 2.000 -0.678j  \n",
      " 2.000 -1.178j  \n",
      " 2.000 -1.678j  \n",
      " 2.000 -2.178j  \n",
      " 2.000 -2.678j  \n",
      "\n"
     ]
    }
   ],
   "source": [
    "top_rail, bottom_rail = self.get_styles()\n",
    "z_plane.show_complex_matrix(top_rail)\n",
    "z_plane.show_complex_matrix(vert_axis)"
   ]
  },
  {
   "cell_type": "markdown",
   "metadata": {},
   "source": [
    "### **left_style, right_style = self.get_styles( )**\n",
    "* terminology note: Split rail fences (and fine furniture) consist of verical members called styles and horizontal members call rails\n",
    "* mercifully it was decided not to call the body plane a \"carcase\""
   ]
  },
  {
   "cell_type": "code",
   "execution_count": 10,
   "metadata": {
    "collapsed": false
   },
   "outputs": [
    {
     "name": "stdout",
     "output_type": "stream",
     "text": [
      " 1.000 -1.678j  \n",
      " 1.500 -1.678j  \n",
      " 2.000 -1.678j  \n",
      " 2.500 -1.678j  \n",
      " 3.000 -1.678j  \n",
      "\n",
      " 3.000 -0.678j  \n",
      " 3.000 -1.178j  \n",
      " 3.000 -1.678j  \n",
      " 3.000 -2.178j  \n",
      " 3.000 -2.678j  \n",
      "\n"
     ]
    }
   ],
   "source": [
    "left_style, right_style = self.get_styles()\n",
    "z_plane.show_complex_matrix(horiz_axis)\n",
    "z_plane.show_complex_matrix(bottom_rail)"
   ]
  },
  {
   "cell_type": "markdown",
   "metadata": {},
   "source": [
    "### row_vectors = self.get_complex_row(row_number)\n",
    "* and\n",
    "### col_vectors = self.get_complex_col(column_number)"
   ]
  },
  {
   "cell_type": "code",
   "execution_count": 11,
   "metadata": {
    "collapsed": false
   },
   "outputs": [
    {
     "name": "stdout",
     "output_type": "stream",
     "text": [
      " 1.000 -2.178j  \n",
      " 1.500 -2.178j  \n",
      " 2.000 -2.178j  \n",
      " 2.500 -2.178j  \n",
      " 3.000 -2.178j  \n",
      "\n",
      "\n",
      "\n",
      " 1.000 -1.678j  \n",
      " 1.500 -1.678j  \n",
      " 2.000 -1.678j  \n",
      " 2.500 -1.678j  \n",
      " 3.000 -1.678j  \n",
      "\n"
     ]
    }
   ],
   "source": [
    "row_vectors = self.get_complex_row(3)\n",
    "z_plane.show_complex_matrix(row_vectors)\n",
    "print('\\n')\n",
    "col_vectors = self.get_complex_col(2)\n",
    "z_plane.show_complex_matrix(col_vectors)"
   ]
  },
  {
   "cell_type": "markdown",
   "metadata": {},
   "source": [
    "### Z0 = self.get_complex_pixels( )\n",
    "\n",
    "* and\n",
    "\n",
    "### z_plane.show_complex_matrix(Z0)"
   ]
  },
  {
   "cell_type": "code",
   "execution_count": 12,
   "metadata": {
    "collapsed": false
   },
   "outputs": [
    {
     "name": "stdout",
     "output_type": "stream",
     "text": [
      " 1.000 -0.678j   1.500 -0.678j   2.000 -0.678j   2.500 -0.678j   3.000 -0.678j  \n",
      " 1.000 -1.178j   1.500 -1.178j   2.000 -1.178j   2.500 -1.178j   3.000 -1.178j  \n",
      " 1.000 -1.678j   1.500 -1.678j   2.000 -1.678j   2.500 -1.678j   3.000 -1.678j  \n",
      " 1.000 -2.178j   1.500 -2.178j   2.000 -2.178j   2.500 -2.178j   3.000 -2.178j  \n",
      " 1.000 -2.678j   1.500 -2.678j   2.000 -2.678j   2.500 -2.678j   3.000 -2.678j  \n"
     ]
    }
   ],
   "source": [
    "Z0 = self.get_complex_pixels()\n",
    "z_plane.show_complex_matrix(Z0)"
   ]
  },
  {
   "cell_type": "code",
   "execution_count": null,
   "metadata": {
    "collapsed": true
   },
   "outputs": [],
   "source": []
  },
  {
   "cell_type": "code",
   "execution_count": null,
   "metadata": {
    "collapsed": true
   },
   "outputs": [],
   "source": []
  },
  {
   "cell_type": "markdown",
   "metadata": {},
   "source": [
    "## Explore | develop for:"
   ]
  },
  {
   "cell_type": "markdown",
   "metadata": {
    "collapsed": true
   },
   "source": [
    "#### sketch of usage for escape-time dynamic iteration"
   ]
  },
  {
   "cell_type": "code",
   "execution_count": 10,
   "metadata": {
    "collapsed": false
   },
   "outputs": [
    {
     "name": "stdout",
     "output_type": "stream",
     "text": [
      "\n",
      "\n",
      "-0.034 -2.170j  -0.784 -1.170j  -1.034 -0.170j  -0.784 +0.830j  -0.034 +1.830j  \n",
      " 0.716 -1.170j  -0.034 -0.670j  -0.284 -0.170j  -0.034 +0.330j   0.716 +0.830j  \n",
      " 0.966 -0.170j   0.216 -0.170j  -0.034 -0.170j   0.216 -0.170j   0.966 -0.170j  \n",
      " 0.716 +0.830j  -0.034 +0.330j  -0.284 -0.170j  -0.034 -0.670j   0.716 -1.170j  \n",
      "-0.034 +1.830j  -0.784 +0.830j  -1.034 -0.170j  -0.784 -1.170j  -0.034 -2.170j  \n",
      "\n",
      "\n",
      "-4.742 -0.022j  -0.788 +1.665j   1.006 +0.182j  -0.108 -1.471j  -3.382 -0.294j  \n",
      "-0.890 -1.845j  -0.482 -0.124j   0.018 -0.073j  -0.142 -0.192j  -0.210 +1.019j  \n",
      " 0.870 -0.498j  -0.016 -0.243j  -0.062 -0.158j  -0.016 -0.243j   0.870 -0.498j  \n",
      "-0.210 +1.019j  -0.142 -0.192j   0.018 -0.073j  -0.482 -0.124j  -0.890 -1.845j  \n",
      "-3.382 -0.294j  -0.108 -1.471j   1.006 +0.182j  -0.788 +1.665j  -4.742 -0.022j  \n",
      "\n",
      "\n",
      " 22.450 +0.043j  -2.183 -2.794j   0.946 +0.195j  -2.187 +0.149j   11.315 +1.821j  \n",
      "-2.647 +3.116j   0.183 -0.050j  -0.039 -0.173j  -0.051 -0.115j  -1.027 -0.598j  \n",
      " 0.475 -1.038j  -0.093 -0.162j  -0.055 -0.150j  -0.093 -0.162j   0.475 -1.038j  \n",
      "-1.027 -0.598j  -0.051 -0.115j  -0.039 -0.173j   0.183 -0.050j  -2.647 +3.116j  \n",
      " 11.315 +1.821j  -2.187 +0.149j   0.946 +0.195j  -2.183 -2.794j   22.450 +0.043j  \n",
      "\n",
      "\n",
      " 503.950 +1.752j  -3.074 +12.032j   0.822 +0.200j   4.729 -0.820j   124.689 +41.051j  \n",
      "-2.735 -16.666j  -0.003 -0.188j  -0.062 -0.157j  -0.045 -0.158j   0.663 +1.059j  \n",
      "-0.885 -1.155j  -0.052 -0.140j  -0.054 -0.153j  -0.052 -0.140j  -0.885 -1.155j  \n",
      " 0.663 +1.059j  -0.045 -0.158j  -0.062 -0.157j  -0.003 -0.188j  -2.735 -16.666j  \n",
      " 124.689 +41.051j   4.729 -0.820j   0.822 +0.200j  -3.074 +12.032j   503.950 +1.752j  \n",
      "\n",
      "\n",
      " 503.950 +1.752j  -135.347 -74.140j   0.602 +0.158j   21.655 -7.924j   124.689 +41.051j  \n",
      "-270.299 +90.988j  -0.069 -0.169j  -0.055 -0.151j  -0.057 -0.156j  -0.716 +1.235j  \n",
      "-0.586 +1.875j  -0.051 -0.156j  -0.055 -0.154j  -0.051 -0.156j  -0.586 +1.875j  \n",
      "-0.716 +1.235j  -0.057 -0.156j  -0.055 -0.151j  -0.069 -0.169j  -270.299 +90.988j  \n",
      " 124.689 +41.051j   21.655 -7.924j   0.602 +0.158j  -135.347 -74.140j   503.950 +1.752j  \n",
      "\n",
      "\n",
      " 503.950 +1.752j  -135.347 -74.140j   0.303 +0.020j   406.104 -343.353j   124.689 +41.051j  \n",
      "-270.299 +90.988j  -0.058 -0.147j  -0.054 -0.154j  -0.055 -0.152j  -1.047 -1.939j  \n",
      "-3.207 -2.367j  -0.056 -0.154j  -0.055 -0.153j  -0.056 -0.154j  -3.207 -2.367j  \n",
      "-1.047 -1.939j  -0.055 -0.152j  -0.054 -0.154j  -0.058 -0.147j  -270.299 +90.988j  \n",
      " 124.689 +41.051j   406.104 -343.353j   0.303 +0.020j  -135.347 -74.140j   503.950 +1.752j  \n",
      "\n",
      "\n",
      " 503.950 +1.752j  -135.347 -74.140j   0.058 -0.158j   406.104 -343.353j   124.689 +41.051j  \n",
      "-270.299 +90.988j  -0.052 -0.153j  -0.055 -0.154j  -0.054 -0.153j  -2.696 +3.890j  \n",
      " 4.644 +15.012j  -0.055 -0.153j  -0.054 -0.153j  -0.055 -0.153j   4.644 +15.012j  \n",
      "-2.696 +3.890j  -0.054 -0.153j  -0.055 -0.154j  -0.052 -0.153j  -270.299 +90.988j  \n",
      " 124.689 +41.051j   406.104 -343.353j   0.058 -0.158j  -135.347 -74.140j   503.950 +1.752j  \n",
      "\n",
      "\n",
      " 503.950 +1.752j  -135.347 -74.140j  -0.056 -0.188j   406.104 -343.353j   124.689 +41.051j  \n",
      "-270.299 +90.988j  -0.055 -0.154j  -0.055 -0.153j  -0.055 -0.153j  -7.897 -21.142j  \n",
      "-203.839 +139.252j  -0.054 -0.153j  -0.055 -0.153j  -0.054 -0.153j  -203.839 +139.252j  \n",
      "-7.897 -21.142j  -0.055 -0.153j  -0.055 -0.153j  -0.055 -0.154j  -270.299 +90.988j  \n",
      " 124.689 +41.051j   406.104 -343.353j  -0.056 -0.188j  -135.347 -74.140j   503.950 +1.752j  \n"
     ]
    }
   ],
   "source": [
    "self = ComplexPlane(CP=0.0+0.0*1j, ZM=1.0, theta=0.0, h=5, w=5)\n",
    "Z0 = self.get_complex_pixels()\n",
    "ETBound = 64\n",
    "ETMax = 7\n",
    "p = (0.034 + 0.17j)\n",
    "Z = Z0**2 - p\n",
    "Z_try = Z\n",
    "for ET in range(0, ETMax):\n",
    "    print('\\n')\n",
    "    z_plane.show_complex_matrix(Z)\n",
    "    M_new = np.isfinite(Z) & (np.abs(Z - Z0) <= ETBound)\n",
    "    Z_bak = Z\n",
    "    M_was = M_new\n",
    "    Z_try[M_was] = Z[M_was]**2 - p\n",
    "    M_new = np.isfinite(Z) & M_was\n",
    "    Z[M_new] = Z_try[M_new]\n",
    "    \n",
    "print('\\n')\n",
    "z_plane.show_complex_matrix(Z)"
   ]
  },
  {
   "cell_type": "code",
   "execution_count": null,
   "metadata": {
    "collapsed": true
   },
   "outputs": [],
   "source": []
  }
 ],
 "metadata": {
  "anaconda-cloud": {},
  "kernelspec": {
   "display_name": "Python [default]",
   "language": "python",
   "name": "python3"
  },
  "language_info": {
   "codemirror_mode": {
    "name": "ipython",
    "version": 3
   },
   "file_extension": ".py",
   "mimetype": "text/x-python",
   "name": "python",
   "nbconvert_exporter": "python",
   "pygments_lexer": "ipython3",
   "version": "3.5.2"
  }
 },
 "nbformat": 4,
 "nbformat_minor": 1
}
