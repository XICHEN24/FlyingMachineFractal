{
 "cells": [
  {
   "cell_type": "markdown",
   "metadata": {},
   "source": [
    "# z_plane     module functions"
   ]
  },
  {
   "cell_type": "code",
   "execution_count": 1,
   "metadata": {
    "collapsed": false
   },
   "outputs": [],
   "source": [
    "import os\n",
    "import sys\n",
    "import numpy as np\n",
    "\n",
    "sys.path.insert(1, '../src')\n",
    "import z_plane\n",
    "from z_plane import ComplexPlane"
   ]
  },
  {
   "cell_type": "markdown",
   "metadata": {},
   "source": [
    "## Static functions:"
   ]
  },
  {
   "cell_type": "markdown",
   "metadata": {},
   "source": [
    "### frame_dictionary = get_complex_frame(center_point, zoom_factor, radians_rotation, height(=1),width(=1))\n",
    "\n",
    "    upper_left,      top_center,      upper_right\n",
    "\n",
    "    left_center,     center_point,    right_center\n",
    "\n",
    "    bottom_left,     bottom_center,   bottom_right\n",
    "    \n",
    "### show_complex_frame( frame_dictionary )"
   ]
  },
  {
   "cell_type": "code",
   "execution_count": 2,
   "metadata": {
    "collapsed": false
   },
   "outputs": [
    {
     "name": "stdout",
     "output_type": "stream",
     "text": [
      "square frame:\n",
      "\n",
      "upper_left    -1.0000 +1.0000j    top_center     0.0000 +1.0000j    upper_right    1.0000 +1.0000j\n",
      "left_center   -1.0000 +0.0000j    center_point   0.0000 +0.0000j    right_center   1.0000 +0.0000j\n",
      "bottom_left   -1.0000 -1.0000j    bottom_center -0.0000 -1.0000j    bottom_right   1.0000 -1.0000j\n",
      "\n",
      "\n",
      " wide frame:\n",
      "\n",
      "upper_left    -2.0000 +1.0000j    top_center     0.0000 +1.0000j    upper_right    2.0000 +1.0000j\n",
      "left_center   -2.0000 +0.0000j    center_point   0.0000 +0.0000j    right_center   2.0000 +0.0000j\n",
      "bottom_left   -2.0000 -1.0000j    bottom_center -0.0000 -1.0000j    bottom_right   2.0000 -1.0000j\n",
      "\n",
      "\n",
      " tall frame:\n",
      "\n",
      "upper_left    -1.0000 +2.0000j    top_center     0.0000 +2.0000j    upper_right    1.0000 +2.0000j\n",
      "left_center   -1.0000 +0.0000j    center_point   0.0000 +0.0000j    right_center   1.0000 +0.0000j\n",
      "bottom_left   -1.0000 -2.0000j    bottom_center -0.0000 -2.0000j    bottom_right   1.0000 -2.0000j\n"
     ]
    }
   ],
   "source": [
    "CP = 0\n",
    "ZM = 1\n",
    "theta = 0\n",
    "print('square frame:\\n')\n",
    "fd = z_plane.get_complex_frame(CP,ZM,theta)\n",
    "z_plane.show_complex_frame(fd)\n",
    "\n",
    "print('\\n\\n wide frame:\\n')\n",
    "n_rows = 100\n",
    "n_cols = 200\n",
    "z_plane.show_complex_frame(z_plane.get_complex_frame(CP,ZM,theta, n_rows, n_cols))\n",
    "\n",
    "print('\\n\\n tall frame:\\n')\n",
    "n_rows = 200\n",
    "n_cols = 100\n",
    "z_plane.show_complex_frame(z_plane.get_complex_frame(CP,ZM,theta, n_rows, n_cols))"
   ]
  },
  {
   "cell_type": "code",
   "execution_count": null,
   "metadata": {
    "collapsed": true
   },
   "outputs": [],
   "source": []
  },
  {
   "cell_type": "markdown",
   "metadata": {},
   "source": [
    "### frame_string = get_complex_frame_string(frame_dictionary, N_DEC(=4))\n",
    "\n",
    "### z_string = complex_to_string(z, N_DEC(=6))"
   ]
  },
  {
   "cell_type": "code",
   "execution_count": 3,
   "metadata": {
    "collapsed": false
   },
   "outputs": [
    {
     "name": "stdout",
     "output_type": "stream",
     "text": [
      " 1.000000000000 -1.000000000000j \n",
      "\n",
      "\n"
     ]
    },
    {
     "data": {
      "text/plain": [
       "[['upper_left    -1.0000 +1.0000j',\n",
       "  '   top_center     0.0000 +1.0000j',\n",
       "  '   upper_right    1.0000 +1.0000j'],\n",
       " ['left_center   -1.0000 +0.0000j',\n",
       "  '   center_point   0.0000 +0.0000j',\n",
       "  '   right_center   1.0000 +0.0000j'],\n",
       " ['bottom_left   -1.0000 -1.0000j',\n",
       "  '   bottom_center -0.0000 -1.0000j',\n",
       "  '   bottom_right   1.0000 -1.0000j']]"
      ]
     },
     "execution_count": 3,
     "metadata": {},
     "output_type": "execute_result"
    }
   ],
   "source": [
    "z = 1 - 1j\n",
    "print(z_plane.complex_to_string(z, 12),'\\n\\n')\n",
    "\n",
    "fd = z_plane.get_complex_frame(CP,ZM,theta)\n",
    "frame_string_list = z_plane.get_complex_frame_string(fd)\n",
    "frame_string_list"
   ]
  },
  {
   "cell_type": "code",
   "execution_count": null,
   "metadata": {
    "collapsed": true
   },
   "outputs": [],
   "source": []
  },
  {
   "cell_type": "markdown",
   "metadata": {
    "collapsed": true
   },
   "source": [
    "### show_complex_matrix(Z0, N_DEC(=3))"
   ]
  },
  {
   "cell_type": "code",
   "execution_count": 4,
   "metadata": {
    "collapsed": false
   },
   "outputs": [
    {
     "name": "stdout",
     "output_type": "stream",
     "text": [
      " 0.481 +0.001j   0.071 +0.974j   0.735 +0.615j   0.075 +0.507j   0.643 +0.004j   0.538 +0.469j   0.952 +0.404j  \n",
      " 0.248 +0.495j   0.013 +0.983j   0.523 +0.317j   0.143 +0.122j   0.955 +0.430j   0.963 +0.940j   0.666 +0.823j  \n",
      " 0.997 +0.611j   0.999 +0.016j   0.113 +0.346j   0.239 +0.480j   0.518 +0.501j   0.954 +0.851j   0.883 +0.906j  \n",
      " 0.275 +0.772j   0.806 +0.187j   0.153 +0.233j   0.417 +0.868j   0.818 +0.760j   0.782 +0.841j   0.444 +0.166j  \n",
      " 0.771 +0.791j   0.350 +0.924j   0.011 +0.787j   0.695 +0.133j   0.894 +0.714j   0.652 +0.204j   0.079 +0.077j  \n",
      " 0.133 +0.918j   0.591 +0.086j   0.855 +0.485j   0.427 +0.385j   0.669 +0.094j   0.431 +0.460j   0.484 +0.997j  \n",
      " 0.235 +0.562j   0.875 +0.740j   0.640 +0.351j   0.617 +0.029j   0.435 +0.457j   0.461 +0.388j   0.832 +0.928j  \n"
     ]
    }
   ],
   "source": [
    "Z0 = np.random.random((7,7)) + np.random.random((7,7)) * 1j\n",
    "z_plane.show_complex_matrix(Z0, N_DEC=3)"
   ]
  },
  {
   "cell_type": "code",
   "execution_count": null,
   "metadata": {
    "collapsed": true
   },
   "outputs": [],
   "source": []
  },
  {
   "cell_type": "code",
   "execution_count": null,
   "metadata": {
    "collapsed": true
   },
   "outputs": [],
   "source": []
  },
  {
   "cell_type": "code",
   "execution_count": null,
   "metadata": {
    "collapsed": true
   },
   "outputs": [],
   "source": []
  },
  {
   "cell_type": "code",
   "execution_count": null,
   "metadata": {
    "collapsed": true
   },
   "outputs": [],
   "source": []
  }
 ],
 "metadata": {
  "anaconda-cloud": {},
  "kernelspec": {
   "display_name": "Python [default]",
   "language": "python",
   "name": "python3"
  },
  "language_info": {
   "codemirror_mode": {
    "name": "ipython",
    "version": 3
   },
   "file_extension": ".py",
   "mimetype": "text/x-python",
   "name": "python",
   "nbconvert_exporter": "python",
   "pygments_lexer": "ipython3",
   "version": "3.5.2"
  }
 },
 "nbformat": 4,
 "nbformat_minor": 1
}
