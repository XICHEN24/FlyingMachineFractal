{
 "cells": [
  {
   "cell_type": "markdown",
   "metadata": {},
   "source": [
    "# z_plane     module functions"
   ]
  },
  {
   "cell_type": "code",
   "execution_count": 1,
   "metadata": {
    "collapsed": true
   },
   "outputs": [],
   "source": [
    "import os\n",
    "import sys\n",
    "import numpy as np\n",
    "\n",
    "sys.path.insert(1, '../src')\n",
    "import z_plane"
   ]
  },
  {
   "cell_type": "markdown",
   "metadata": {},
   "source": [
    "## Static functions:"
   ]
  },
  {
   "cell_type": "markdown",
   "metadata": {},
   "source": [
    "### frame_dictionary = get_complex_frame(center_point, zoom_factor, radians_rotation, height(=1),width(=1))\n",
    "\n",
    "    upper_left,      top_center,      upper_right\n",
    "\n",
    "    left_center,     center_point,    right_center\n",
    "\n",
    "    bottom_left,     bottom_center,   bottom_right"
   ]
  },
  {
   "cell_type": "code",
   "execution_count": 2,
   "metadata": {
    "collapsed": false
   },
   "outputs": [
    {
     "name": "stdout",
     "output_type": "stream",
     "text": [
      "square frame:\n",
      "\n",
      "upper_left\t-1.000000000 1.000000000\n",
      "top_center\t0.000000000 1.000000000\n",
      "upper_right\t1.000000000 1.000000000\n",
      "left_center\t-1.000000000 0.000000000\n",
      "center_point\t0.000000000 0.000000000\n",
      "right_center\t1.000000000 0.000000000\n",
      "bottom_left\t-1.000000000 -1.000000000\n",
      "bottom_center\t-0.000000000 -1.000000000\n",
      "bottom_right\t1.000000000 -1.000000000\n",
      "\n",
      "\n",
      " wide frame:\n",
      "\n",
      "upper_left\t-2.000000000 1.000000000\n",
      "top_center\t0.000000000 1.000000000\n",
      "upper_right\t2.000000000 1.000000000\n",
      "left_center\t-2.000000000 0.000000000\n",
      "center_point\t0.000000000 0.000000000\n",
      "right_center\t2.000000000 0.000000000\n",
      "bottom_left\t-2.000000000 -1.000000000\n",
      "bottom_center\t-0.000000000 -1.000000000\n",
      "bottom_right\t2.000000000 -1.000000000\n",
      "\n",
      "\n",
      " tall frame:\n",
      "\n",
      "upper_left\t-1.000000000 2.000000000\n",
      "top_center\t0.000000000 2.000000000\n",
      "upper_right\t1.000000000 2.000000000\n",
      "left_center\t-1.000000000 0.000000000\n",
      "center_point\t0.000000000 0.000000000\n",
      "right_center\t1.000000000 0.000000000\n",
      "bottom_left\t-1.000000000 -2.000000000\n",
      "bottom_center\t-0.000000000 -2.000000000\n",
      "bottom_right\t1.000000000 -2.000000000\n"
     ]
    }
   ],
   "source": [
    "print_order = ['upper_left', 'top_center', 'upper_right', \n",
    "               'left_center', 'center_point', 'right_center',\n",
    "              'bottom_left', 'bottom_center', 'bottom_right']\n",
    "CP = 0\n",
    "ZM = 1\n",
    "theta = 0\n",
    "print('square frame:\\n')\n",
    "fd = z_plane.get_complex_frame(CP,ZM,theta)\n",
    "for k in print_order:\n",
    "    r = np.real(fd[k])\n",
    "    i = np.imag(fd[k])\n",
    "    print('%s\\t%0.9f %0.9f'%(k,r,i))\n",
    "\n",
    "print('\\n\\n wide frame:\\n')\n",
    "n_rows = 100\n",
    "n_cols = 200\n",
    "fd = z_plane.get_complex_frame(CP,ZM,theta, n_rows, n_cols)\n",
    "for k in print_order:\n",
    "    r = np.real(fd[k])\n",
    "    i = np.imag(fd[k])\n",
    "    print('%s\\t%0.9f %0.9f'%(k,r,i))\n",
    "\n",
    "print('\\n\\n tall frame:\\n')\n",
    "n_rows = 200\n",
    "n_cols = 100\n",
    "fd = z_plane.get_complex_frame(CP,ZM,theta, n_rows, n_cols)\n",
    "for k in print_order:\n",
    "    r = np.real(fd[k])\n",
    "    i = np.imag(fd[k])\n",
    "    print('%s\\t%0.9f %0.9f'%(k,r,i))"
   ]
  },
  {
   "cell_type": "code",
   "execution_count": 3,
   "metadata": {
    "collapsed": false
   },
   "outputs": [
    {
     "data": {
      "text/plain": [
       "'upper_left \\t -1.000000000 2.000000000\\t top_center \\t 0.000000000 2.000000000\\t upper_right \\t 1.000000000 2.000000000 \\nleft_center \\t -1.000000000 0.000000000\\t center_point \\t 0.000000000 0.000000000\\t right_center \\t 1.000000000 0.000000000 \\nbottom_left \\t -1.000000000 -2.000000000\\t bottom_center \\t -0.000000000 -2.000000000\\t bottom_right \\t 1.000000000 -2.000000000 \\n'"
      ]
     },
     "execution_count": 3,
     "metadata": {},
     "output_type": "execute_result"
    }
   ],
   "source": [
    "fr_str = z_plane.get_complex_frame_string(fd)\n",
    "fr_str"
   ]
  },
  {
   "cell_type": "code",
   "execution_count": 4,
   "metadata": {
    "collapsed": false
   },
   "outputs": [
    {
     "data": {
      "text/plain": [
       "['upper_left\\t-1.000000000 2.000000000\\n',\n",
       " 'top_center\\t0.000000000 2.000000000\\n',\n",
       " 'upper_right\\t1.000000000 2.000000000\\n',\n",
       " 'left_center\\t-1.000000000 0.000000000\\n',\n",
       " 'center_point\\t0.000000000 0.000000000\\n',\n",
       " 'right_center\\t1.000000000 0.000000000\\n',\n",
       " 'bottom_left\\t-1.000000000 -2.000000000\\n',\n",
       " 'bottom_center\\t-0.000000000 -2.000000000\\n',\n",
       " 'bottom_right\\t1.000000000 -2.000000000\\n']"
      ]
     },
     "execution_count": 4,
     "metadata": {},
     "output_type": "execute_result"
    }
   ],
   "source": [
    "fr_str"
   ]
  },
  {
   "cell_type": "code",
   "execution_count": 18,
   "metadata": {
    "collapsed": false
   },
   "outputs": [
    {
     "name": "stdout",
     "output_type": "stream",
     "text": [
      "a \t (-1+1j)\n"
     ]
    }
   ],
   "source": [
    "z = -1 + 1j\n",
    "r = np.real(z)\n",
    "i = np.imag(z)\n",
    "# print('{}\\t{:0.9f} {:0.9f}'.format('a',r,i))\n",
    "print('{} \\t {}'.format('a', z))"
   ]
  },
  {
   "cell_type": "code",
   "execution_count": null,
   "metadata": {
    "collapsed": true
   },
   "outputs": [],
   "source": []
  }
 ],
 "metadata": {
  "anaconda-cloud": {},
  "kernelspec": {
   "display_name": "Python [default]",
   "language": "python",
   "name": "python3"
  },
  "language_info": {
   "codemirror_mode": {
    "name": "ipython",
    "version": 3
   },
   "file_extension": ".py",
   "mimetype": "text/x-python",
   "name": "python",
   "nbconvert_exporter": "python",
   "pygments_lexer": "ipython3",
   "version": "3.5.2"
  }
 },
 "nbformat": 4,
 "nbformat_minor": 1
}
