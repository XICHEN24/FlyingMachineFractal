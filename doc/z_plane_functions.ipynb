{
 "cells": [
  {
   "cell_type": "markdown",
   "metadata": {},
   "source": [
    "# z_plane     module functions"
   ]
  },
  {
   "cell_type": "code",
   "execution_count": 1,
   "metadata": {
    "collapsed": false
   },
   "outputs": [],
   "source": [
    "import os\n",
    "import sys\n",
    "import numpy as np\n",
    "\n",
    "sys.path.insert(1, '../src')\n",
    "import z_plane\n",
    "from z_plane import ComplexPlane"
   ]
  },
  {
   "cell_type": "code",
   "execution_count": 2,
   "metadata": {
    "collapsed": false
   },
   "outputs": [
    {
     "name": "stdout",
     "output_type": "stream",
     "text": [
      "-1.000 +1.000j  -0.500 +1.000j   0.000 +1.000j   0.500 +1.000j   1.000 +1.000j  \n",
      "-1.000 +0.500j  -0.500 +0.500j   0.000 +0.500j   0.500 +0.500j   1.000 +0.500j  \n",
      "-1.000 +0.000j  -0.500 +0.000j   0.000 +0.000j   0.500 +0.000j   1.000 +0.000j  \n",
      "-1.000 -0.500j  -0.500 -0.500j   0.000 -0.500j   0.500 -0.500j   1.000 -0.500j  \n",
      "-1.000 -1.000j  -0.500 -1.000j   0.000 -1.000j   0.500 -1.000j   1.000 -1.000j  \n"
     ]
    }
   ],
   "source": [
    "self = ComplexPlane()\n",
    "Z0 = self.get_complex_pixels()\n",
    "z_plane.show_complex_matrix(Z0)"
   ]
  },
  {
   "cell_type": "code",
   "execution_count": 28,
   "metadata": {
    "collapsed": false
   },
   "outputs": [
    {
     "name": "stdout",
     "output_type": "stream",
     "text": [
      "\n",
      "\n",
      "-0.034 -2.170j  -0.784 -1.170j  -1.034 -0.170j  -0.784 +0.830j  -0.034 +1.830j  \n",
      " 0.716 -1.170j  -0.034 -0.670j  -0.284 -0.170j  -0.034 +0.330j   0.716 +0.830j  \n",
      " 0.966 -0.170j   0.216 -0.170j  -0.034 -0.170j   0.216 -0.170j   0.966 -0.170j  \n",
      " 0.716 +0.830j  -0.034 +0.330j  -0.284 -0.170j  -0.034 -0.670j   0.716 -1.170j  \n",
      "-0.034 +1.830j  -0.784 +0.830j  -1.034 -0.170j  -0.784 -1.170j  -0.034 -2.170j  \n",
      "\n",
      "\n",
      "-4.742 -0.022j  -0.788 +1.665j   1.006 +0.182j  -0.108 -1.471j  -3.382 -0.294j  \n",
      "-0.890 -1.845j  -0.482 -0.124j   0.018 -0.073j  -0.142 -0.192j  -0.210 +1.019j  \n",
      " 0.870 -0.498j  -0.016 -0.243j  -0.062 -0.158j  -0.016 -0.243j   0.870 -0.498j  \n",
      "-0.210 +1.019j  -0.142 -0.192j   0.018 -0.073j  -0.482 -0.124j  -0.890 -1.845j  \n",
      "-3.382 -0.294j  -0.108 -1.471j   1.006 +0.182j  -0.788 +1.665j  -4.742 -0.022j  \n",
      "\n",
      "\n",
      " 22.450 +0.043j  -2.183 -2.794j   0.946 +0.195j  -2.187 +0.149j   11.315 +1.821j  \n",
      "-2.647 +3.116j   0.183 -0.050j  -0.039 -0.173j  -0.051 -0.115j  -1.027 -0.598j  \n",
      " 0.475 -1.038j  -0.093 -0.162j  -0.055 -0.150j  -0.093 -0.162j   0.475 -1.038j  \n",
      "-1.027 -0.598j  -0.051 -0.115j  -0.039 -0.173j   0.183 -0.050j  -2.647 +3.116j  \n",
      " 11.315 +1.821j  -2.187 +0.149j   0.946 +0.195j  -2.183 -2.794j   22.450 +0.043j  \n",
      "\n",
      "\n",
      " 503.950 +1.752j  -3.074 +12.032j   0.822 +0.200j   4.729 -0.820j   124.689 +41.051j  \n",
      "-2.735 -16.666j  -0.003 -0.188j  -0.062 -0.157j  -0.045 -0.158j   0.663 +1.059j  \n",
      "-0.885 -1.155j  -0.052 -0.140j  -0.054 -0.153j  -0.052 -0.140j  -0.885 -1.155j  \n",
      " 0.663 +1.059j  -0.045 -0.158j  -0.062 -0.157j  -0.003 -0.188j  -2.735 -16.666j  \n",
      " 124.689 +41.051j   4.729 -0.820j   0.822 +0.200j  -3.074 +12.032j   503.950 +1.752j  \n",
      "\n",
      "\n",
      " 503.950 +1.752j  -135.347 -74.140j   0.602 +0.158j   21.655 -7.924j   124.689 +41.051j  \n",
      "-270.299 +90.988j  -0.069 -0.169j  -0.055 -0.151j  -0.057 -0.156j  -0.716 +1.235j  \n",
      "-0.586 +1.875j  -0.051 -0.156j  -0.055 -0.154j  -0.051 -0.156j  -0.586 +1.875j  \n",
      "-0.716 +1.235j  -0.057 -0.156j  -0.055 -0.151j  -0.069 -0.169j  -270.299 +90.988j  \n",
      " 124.689 +41.051j   21.655 -7.924j   0.602 +0.158j  -135.347 -74.140j   503.950 +1.752j  \n",
      "\n",
      "\n",
      " 503.950 +1.752j  -135.347 -74.140j   0.303 +0.020j   406.104 -343.353j   124.689 +41.051j  \n",
      "-270.299 +90.988j  -0.058 -0.147j  -0.054 -0.154j  -0.055 -0.152j  -1.047 -1.939j  \n",
      "-3.207 -2.367j  -0.056 -0.154j  -0.055 -0.153j  -0.056 -0.154j  -3.207 -2.367j  \n",
      "-1.047 -1.939j  -0.055 -0.152j  -0.054 -0.154j  -0.058 -0.147j  -270.299 +90.988j  \n",
      " 124.689 +41.051j   406.104 -343.353j   0.303 +0.020j  -135.347 -74.140j   503.950 +1.752j  \n",
      "\n",
      "\n",
      " 503.950 +1.752j  -135.347 -74.140j   0.058 -0.158j   406.104 -343.353j   124.689 +41.051j  \n",
      "-270.299 +90.988j  -0.052 -0.153j  -0.055 -0.154j  -0.054 -0.153j  -2.696 +3.890j  \n",
      " 4.644 +15.012j  -0.055 -0.153j  -0.054 -0.153j  -0.055 -0.153j   4.644 +15.012j  \n",
      "-2.696 +3.890j  -0.054 -0.153j  -0.055 -0.154j  -0.052 -0.153j  -270.299 +90.988j  \n",
      " 124.689 +41.051j   406.104 -343.353j   0.058 -0.158j  -135.347 -74.140j   503.950 +1.752j  \n",
      "\n",
      "\n",
      " 503.950 +1.752j  -135.347 -74.140j  -0.056 -0.188j   406.104 -343.353j   124.689 +41.051j  \n",
      "-270.299 +90.988j  -0.055 -0.154j  -0.055 -0.153j  -0.055 -0.153j  -7.897 -21.142j  \n",
      "-203.839 +139.252j  -0.054 -0.153j  -0.055 -0.153j  -0.054 -0.153j  -203.839 +139.252j  \n",
      "-7.897 -21.142j  -0.055 -0.153j  -0.055 -0.153j  -0.055 -0.154j  -270.299 +90.988j  \n",
      " 124.689 +41.051j   406.104 -343.353j  -0.056 -0.188j  -135.347 -74.140j   503.950 +1.752j  \n",
      "\n",
      "\n",
      " 503.950 +1.752j  -135.347 -74.140j  -0.066 -0.149j   406.104 -343.353j   124.689 +41.051j  \n",
      "-270.299 +90.988j  -0.055 -0.153j  -0.054 -0.153j  -0.055 -0.153j  -384.644 +333.748j  \n",
      "-203.839 +139.252j  -0.055 -0.153j  -0.055 -0.153j  -0.055 -0.153j  -203.839 +139.252j  \n",
      "-384.644 +333.748j  -0.055 -0.153j  -0.054 -0.153j  -0.055 -0.153j  -270.299 +90.988j  \n",
      " 124.689 +41.051j   406.104 -343.353j  -0.066 -0.149j  -135.347 -74.140j   503.950 +1.752j  \n",
      "\n",
      "\n",
      " 503.950 +1.752j  -135.347 -74.140j  -0.052 -0.150j   406.104 -343.353j   124.689 +41.051j  \n",
      "-270.299 +90.988j  -0.054 -0.153j  -0.055 -0.153j  -0.055 -0.153j  -384.644 +333.748j  \n",
      "-203.839 +139.252j  -0.055 -0.153j  -0.055 -0.153j  -0.055 -0.153j  -203.839 +139.252j  \n",
      "-384.644 +333.748j  -0.055 -0.153j  -0.055 -0.153j  -0.054 -0.153j  -270.299 +90.988j  \n",
      " 124.689 +41.051j   406.104 -343.353j  -0.052 -0.150j  -135.347 -74.140j   503.950 +1.752j  \n",
      "\n",
      "\n",
      " 503.950 +1.752j  -135.347 -74.140j  -0.054 -0.154j   406.104 -343.353j   124.689 +41.051j  \n",
      "-270.299 +90.988j  -0.055 -0.153j  -0.055 -0.153j  -0.055 -0.153j  -384.644 +333.748j  \n",
      "-203.839 +139.252j  -0.055 -0.153j  -0.055 -0.153j  -0.055 -0.153j  -203.839 +139.252j  \n",
      "-384.644 +333.748j  -0.055 -0.153j  -0.055 -0.153j  -0.055 -0.153j  -270.299 +90.988j  \n",
      " 124.689 +41.051j   406.104 -343.353j  -0.054 -0.154j  -135.347 -74.140j   503.950 +1.752j  \n",
      "\n",
      "\n",
      " 503.950 +1.752j  -135.347 -74.140j  -0.055 -0.153j   406.104 -343.353j   124.689 +41.051j  \n",
      "-270.299 +90.988j  -0.055 -0.153j  -0.055 -0.153j  -0.055 -0.153j  -384.644 +333.748j  \n",
      "-203.839 +139.252j  -0.055 -0.153j  -0.055 -0.153j  -0.055 -0.153j  -203.839 +139.252j  \n",
      "-384.644 +333.748j  -0.055 -0.153j  -0.055 -0.153j  -0.055 -0.153j  -270.299 +90.988j  \n",
      " 124.689 +41.051j   406.104 -343.353j  -0.055 -0.153j  -135.347 -74.140j   503.950 +1.752j  \n",
      "\n",
      "\n",
      " 503.950 +1.752j  -135.347 -74.140j  -0.054 -0.153j   406.104 -343.353j   124.689 +41.051j  \n",
      "-270.299 +90.988j  -0.055 -0.153j  -0.055 -0.153j  -0.055 -0.153j  -384.644 +333.748j  \n",
      "-203.839 +139.252j  -0.055 -0.153j  -0.055 -0.153j  -0.055 -0.153j  -203.839 +139.252j  \n",
      "-384.644 +333.748j  -0.055 -0.153j  -0.055 -0.153j  -0.055 -0.153j  -270.299 +90.988j  \n",
      " 124.689 +41.051j   406.104 -343.353j  -0.054 -0.153j  -135.347 -74.140j   503.950 +1.752j  \n"
     ]
    }
   ],
   "source": [
    "ETBound = 64\n",
    "ETMax = 12\n",
    "p = (0.034 + 0.17j)\n",
    "Z = Z0**2 - p\n",
    "Z_try = Z\n",
    "for ET in range(0, ETMax):\n",
    "    print('\\n')\n",
    "    z_plane.show_complex_matrix(Z)\n",
    "    M_new = np.isfinite(Z) & (np.abs(Z - Z0) <= ETBound)\n",
    "    Z_bak = Z\n",
    "    M_was = M_new\n",
    "    Z_try[M_was] = Z[M_was]**2 - p\n",
    "    M_new = np.isfinite(Z) & M_was\n",
    "    Z[M_new] = Z_try[M_new]\n",
    "    \n",
    "print('\\n')\n",
    "z_plane.show_complex_matrix(Z)"
   ]
  },
  {
   "cell_type": "markdown",
   "metadata": {},
   "source": [
    "## Static functions:"
   ]
  },
  {
   "cell_type": "markdown",
   "metadata": {},
   "source": [
    "### frame_dictionary = get_complex_frame(center_point, zoom_factor, radians_rotation, height(=1),width(=1))\n",
    "\n",
    "    upper_left,      top_center,      upper_right\n",
    "\n",
    "    left_center,     center_point,    right_center\n",
    "\n",
    "    bottom_left,     bottom_center,   bottom_right\n",
    "    \n",
    "### show_complex_frame( frame_dictionary )"
   ]
  },
  {
   "cell_type": "code",
   "execution_count": 2,
   "metadata": {
    "collapsed": false
   },
   "outputs": [
    {
     "name": "stdout",
     "output_type": "stream",
     "text": [
      "square frame:\n",
      "\n",
      "upper_left    -1.0000 +1.0000j    top_center     0.0000 +1.0000j    upper_right    1.0000 +1.0000j\n",
      "left_center   -1.0000 +0.0000j    center_point   0.0000 +0.0000j    right_center   1.0000 +0.0000j\n",
      "bottom_left   -1.0000 -1.0000j    bottom_center -0.0000 -1.0000j    bottom_right   1.0000 -1.0000j\n",
      "\n",
      "\n",
      " wide frame:\n",
      "\n",
      "upper_left    -2.0000 +1.0000j    top_center     0.0000 +1.0000j    upper_right    2.0000 +1.0000j\n",
      "left_center   -2.0000 +0.0000j    center_point   0.0000 +0.0000j    right_center   2.0000 +0.0000j\n",
      "bottom_left   -2.0000 -1.0000j    bottom_center -0.0000 -1.0000j    bottom_right   2.0000 -1.0000j\n",
      "\n",
      "\n",
      " tall frame:\n",
      "\n",
      "upper_left    -1.0000 +2.0000j    top_center     0.0000 +2.0000j    upper_right    1.0000 +2.0000j\n",
      "left_center   -1.0000 +0.0000j    center_point   0.0000 +0.0000j    right_center   1.0000 +0.0000j\n",
      "bottom_left   -1.0000 -2.0000j    bottom_center -0.0000 -2.0000j    bottom_right   1.0000 -2.0000j\n"
     ]
    }
   ],
   "source": [
    "CP = 0\n",
    "ZM = 1\n",
    "theta = 0\n",
    "print('square frame:\\n')\n",
    "fd = z_plane.get_complex_frame(CP,ZM,theta)\n",
    "z_plane.show_complex_frame(fd)\n",
    "\n",
    "print('\\n\\n wide frame:\\n')\n",
    "n_rows = 100\n",
    "n_cols = 200\n",
    "z_plane.show_complex_frame(z_plane.get_complex_frame(CP,ZM,theta, n_rows, n_cols))\n",
    "\n",
    "print('\\n\\n tall frame:\\n')\n",
    "n_rows = 200\n",
    "n_cols = 100\n",
    "z_plane.show_complex_frame(z_plane.get_complex_frame(CP,ZM,theta, n_rows, n_cols))"
   ]
  },
  {
   "cell_type": "code",
   "execution_count": null,
   "metadata": {
    "collapsed": true
   },
   "outputs": [],
   "source": []
  },
  {
   "cell_type": "markdown",
   "metadata": {},
   "source": [
    "### frame_string = get_complex_frame_string(frame_dictionary, N_DEC(=4))\n",
    "\n",
    "### z_string = complex_to_string(z, N_DEC(=6))"
   ]
  },
  {
   "cell_type": "code",
   "execution_count": 3,
   "metadata": {
    "collapsed": false
   },
   "outputs": [
    {
     "name": "stdout",
     "output_type": "stream",
     "text": [
      " 1.000000000000 -1.000000000000j \n",
      "\n",
      "\n"
     ]
    },
    {
     "data": {
      "text/plain": [
       "[['upper_left    -1.0000 +1.0000j',\n",
       "  '   top_center     0.0000 +1.0000j',\n",
       "  '   upper_right    1.0000 +1.0000j'],\n",
       " ['left_center   -1.0000 +0.0000j',\n",
       "  '   center_point   0.0000 +0.0000j',\n",
       "  '   right_center   1.0000 +0.0000j'],\n",
       " ['bottom_left   -1.0000 -1.0000j',\n",
       "  '   bottom_center -0.0000 -1.0000j',\n",
       "  '   bottom_right   1.0000 -1.0000j']]"
      ]
     },
     "execution_count": 3,
     "metadata": {},
     "output_type": "execute_result"
    }
   ],
   "source": [
    "z = 1 - 1j\n",
    "print(z_plane.complex_to_string(z, 12),'\\n\\n')\n",
    "\n",
    "fd = z_plane.get_complex_frame(CP,ZM,theta)\n",
    "frame_string_list = z_plane.get_complex_frame_string(fd)\n",
    "frame_string_list"
   ]
  },
  {
   "cell_type": "code",
   "execution_count": null,
   "metadata": {
    "collapsed": true
   },
   "outputs": [],
   "source": []
  },
  {
   "cell_type": "code",
   "execution_count": 3,
   "metadata": {
    "collapsed": false
   },
   "outputs": [
    {
     "data": {
      "text/plain": [
       "{'a', 'c', 'u', 'v'}"
      ]
     },
     "execution_count": 3,
     "metadata": {},
     "output_type": "execute_result"
    }
   ],
   "source": [
    "l = set(['a','c','v','u'])\n",
    "l"
   ]
  },
  {
   "cell_type": "code",
   "execution_count": 11,
   "metadata": {
    "collapsed": false
   },
   "outputs": [
    {
     "data": {
      "text/plain": [
       "['c', 'v', 'u', 'a']"
      ]
     },
     "execution_count": 11,
     "metadata": {},
     "output_type": "execute_result"
    }
   ],
   "source": [
    "l2 = frozenset(['a','c','v','u'])\n",
    "\n",
    "l1 = list(l2)\n",
    "l1"
   ]
  },
  {
   "cell_type": "code",
   "execution_count": null,
   "metadata": {
    "collapsed": true
   },
   "outputs": [],
   "source": []
  },
  {
   "cell_type": "code",
   "execution_count": null,
   "metadata": {
    "collapsed": true
   },
   "outputs": [],
   "source": []
  },
  {
   "cell_type": "code",
   "execution_count": null,
   "metadata": {
    "collapsed": true
   },
   "outputs": [],
   "source": []
  },
  {
   "cell_type": "code",
   "execution_count": null,
   "metadata": {
    "collapsed": true
   },
   "outputs": [],
   "source": []
  },
  {
   "cell_type": "code",
   "execution_count": null,
   "metadata": {
    "collapsed": true
   },
   "outputs": [],
   "source": []
  }
 ],
 "metadata": {
  "anaconda-cloud": {},
  "kernelspec": {
   "display_name": "Python [default]",
   "language": "python",
   "name": "python3"
  },
  "language_info": {
   "codemirror_mode": {
    "name": "ipython",
    "version": 3
   },
   "file_extension": ".py",
   "mimetype": "text/x-python",
   "name": "python",
   "nbconvert_exporter": "python",
   "pygments_lexer": "ipython3",
   "version": "3.5.2"
  }
 },
 "nbformat": 4,
 "nbformat_minor": 1
}
