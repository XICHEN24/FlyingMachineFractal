{
 "cells": [
  {
   "cell_type": "markdown",
   "metadata": {},
   "source": [
    "# z_plane     module functions"
   ]
  },
  {
   "cell_type": "code",
   "execution_count": 1,
   "metadata": {
    "collapsed": true
   },
   "outputs": [],
   "source": [
    "import os\n",
    "import sys\n",
    "import numpy as np\n",
    "\n",
    "sys.path.insert(1, '../src')\n",
    "import z_plane"
   ]
  },
  {
   "cell_type": "markdown",
   "metadata": {},
   "source": [
    "## Static functions:"
   ]
  },
  {
   "cell_type": "markdown",
   "metadata": {},
   "source": [
    "### frame_dictionary = get_complex_frame(center_point, zoom_factor, radians_rotation, height(=1),width(=1))\n",
    "\n",
    "    upper_left,      top_center,      upper_right\n",
    "\n",
    "    left_center,     center_point,    right_center\n",
    "\n",
    "    bottom_left,     bottom_center,   bottom_right\n",
    "    \n",
    "### show_complex_frame( frame_dictionary )"
   ]
  },
  {
   "cell_type": "code",
   "execution_count": 6,
   "metadata": {
    "collapsed": false
   },
   "outputs": [
    {
     "name": "stdout",
     "output_type": "stream",
     "text": [
      "square frame:\n",
      "\n",
      "upper_left     -1.0000 +1.0000j    top_center      0.0000 +1.0000j    upper_right     1.0000 +1.0000j\n",
      "left_center    -1.0000 +0.0000j    center_point    0.0000 +0.0000j    right_center    1.0000 +0.0000j\n",
      "bottom_left    -1.0000 -1.0000j    bottom_center  -0.0000 -1.0000j    bottom_right    1.0000 -1.0000j\n",
      "\n",
      "\n",
      " wide frame:\n",
      "\n",
      "upper_left     -2.0000 +1.0000j    top_center      0.0000 +1.0000j    upper_right     2.0000 +1.0000j\n",
      "left_center    -2.0000 +0.0000j    center_point    0.0000 +0.0000j    right_center    2.0000 +0.0000j\n",
      "bottom_left    -2.0000 -1.0000j    bottom_center  -0.0000 -1.0000j    bottom_right    2.0000 -1.0000j\n",
      "\n",
      "\n",
      " tall frame:\n",
      "\n",
      "upper_left     -1.0000 +2.0000j    top_center      0.0000 +2.0000j    upper_right     1.0000 +2.0000j\n",
      "left_center    -1.0000 +0.0000j    center_point    0.0000 +0.0000j    right_center    1.0000 +0.0000j\n",
      "bottom_left    -1.0000 -2.0000j    bottom_center  -0.0000 -2.0000j    bottom_right    1.0000 -2.0000j\n"
     ]
    }
   ],
   "source": [
    "CP = 0\n",
    "ZM = 1\n",
    "theta = 0\n",
    "print('square frame:\\n')\n",
    "fd = z_plane.get_complex_frame(CP,ZM,theta)\n",
    "z_plane.show_complex_frame(fd)\n",
    "\n",
    "print('\\n\\n wide frame:\\n')\n",
    "n_rows = 100\n",
    "n_cols = 200\n",
    "z_plane.show_complex_frame(z_plane.get_complex_frame(CP,ZM,theta, n_rows, n_cols))\n",
    "\n",
    "print('\\n\\n tall frame:\\n')\n",
    "n_rows = 200\n",
    "n_cols = 100\n",
    "z_plane.show_complex_frame(z_plane.get_complex_frame(CP,ZM,theta, n_rows, n_cols))"
   ]
  },
  {
   "cell_type": "code",
   "execution_count": null,
   "metadata": {
    "collapsed": true
   },
   "outputs": [],
   "source": []
  },
  {
   "cell_type": "markdown",
   "metadata": {},
   "source": [
    "### frame_string = get_complex_frame_string(frame_dictionary, N_DEC(=4))\n",
    "\n",
    "### z_string = complex_to_string(z, N_DEC(=6))"
   ]
  },
  {
   "cell_type": "code",
   "execution_count": 10,
   "metadata": {
    "collapsed": false
   },
   "outputs": [
    {
     "name": "stdout",
     "output_type": "stream",
     "text": [
      " 1.000000000000 -1.000000000000j \n",
      "\n",
      "\n"
     ]
    },
    {
     "data": {
      "text/plain": [
       "[['upper_left     -1.0000 +1.0000j',\n",
       "  '   top_center      0.0000 +1.0000j',\n",
       "  '   upper_right     1.0000 +1.0000j'],\n",
       " ['left_center    -1.0000 +0.0000j',\n",
       "  '   center_point    0.0000 +0.0000j',\n",
       "  '   right_center    1.0000 +0.0000j'],\n",
       " ['bottom_left    -1.0000 -1.0000j',\n",
       "  '   bottom_center  -0.0000 -1.0000j',\n",
       "  '   bottom_right    1.0000 -1.0000j']]"
      ]
     },
     "execution_count": 10,
     "metadata": {},
     "output_type": "execute_result"
    }
   ],
   "source": [
    "z = 1 - 1j\n",
    "print(z_plane.complex_to_string(z, 12),'\\n\\n')\n",
    "\n",
    "fd = z_plane.get_complex_frame(CP,ZM,theta)\n",
    "frame_string_list = z_plane.get_complex_frame_string(fd)\n",
    "frame_string_list"
   ]
  },
  {
   "cell_type": "code",
   "execution_count": null,
   "metadata": {
    "collapsed": true
   },
   "outputs": [],
   "source": []
  },
  {
   "cell_type": "code",
   "execution_count": null,
   "metadata": {
    "collapsed": true
   },
   "outputs": [],
   "source": []
  },
  {
   "cell_type": "code",
   "execution_count": null,
   "metadata": {
    "collapsed": true
   },
   "outputs": [],
   "source": []
  },
  {
   "cell_type": "code",
   "execution_count": null,
   "metadata": {
    "collapsed": true
   },
   "outputs": [],
   "source": []
  },
  {
   "cell_type": "code",
   "execution_count": null,
   "metadata": {
    "collapsed": true
   },
   "outputs": [],
   "source": []
  },
  {
   "cell_type": "code",
   "execution_count": null,
   "metadata": {
    "collapsed": true
   },
   "outputs": [],
   "source": []
  },
  {
   "cell_type": "code",
   "execution_count": null,
   "metadata": {
    "collapsed": true
   },
   "outputs": [],
   "source": []
  },
  {
   "cell_type": "code",
   "execution_count": null,
   "metadata": {
    "collapsed": true
   },
   "outputs": [],
   "source": []
  }
 ],
 "metadata": {
  "anaconda-cloud": {},
  "kernelspec": {
   "display_name": "Python [default]",
   "language": "python",
   "name": "python3"
  },
  "language_info": {
   "codemirror_mode": {
    "name": "ipython",
    "version": 3
   },
   "file_extension": ".py",
   "mimetype": "text/x-python",
   "name": "python",
   "nbconvert_exporter": "python",
   "pygments_lexer": "ipython3",
   "version": "3.5.2"
  }
 },
 "nbformat": 4,
 "nbformat_minor": 1
}
